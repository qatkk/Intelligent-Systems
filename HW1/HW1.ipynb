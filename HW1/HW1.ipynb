{
  "nbformat": 4,
  "nbformat_minor": 0,
  "metadata": {
    "colab": {
      "name": "HW1.ipynb",
      "provenance": [],
      "collapsed_sections": [
        "9aVeBD4tQJEE",
        "aU3ZwYcIQWqp",
        "MfXm29bhJ73k",
        "niL1Owz_JJyl"
      ]
    },
    "kernelspec": {
      "name": "python3",
      "display_name": "Python 3"
    },
    "language_info": {
      "name": "python"
    }
  },
  "cells": [
    {
      "cell_type": "markdown",
      "metadata": {
        "id": "LrexBw22ZOTf"
      },
      "source": [
        "# In The Name Of God \n",
        "\n",
        "\n"
      ]
    },
    {
      "cell_type": "code",
      "metadata": {
        "id": "1hy_h2iYc4yd"
      },
      "source": [
        "import numpy as np \n",
        "import matplotlib.pyplot as plt "
      ],
      "execution_count": 40,
      "outputs": []
    },
    {
      "cell_type": "markdown",
      "metadata": {
        "id": "plYIveMAL4HQ"
      },
      "source": [
        "# Problem One :\n",
        "$$ f(x_1, x_2) = 3 x_1^2 + 12x_1 + 8x_2^2 + 8x_2 + 6x_1x_2 $$\n",
        "## First Section:\n",
        "### Determining the stationary points \n",
        "In a function, the stationary points are the ones which result in zero output of the gradient of the function. Therefore we can compute them with the eq-1.  $$ \\partial f/ \\partial x_1= 6x_1 + 12 + 6x_2 = 0 $$  \n",
        "$$ \\partial f/ \\partial x_2= 16x_2 + 8 + 6x_1 = 0 $$\n",
        "$$ Y_s = f(-2.4, 0.4)$$  \n",
        "This function has one stationary point corresponding to $$ x_1 = -2.4 , x_2 = 0.4 $$. This shows that our function is convex and has only one stationary point which is a global minimum. \n",
        "## Second Section : \n",
        "Start from the point $x=(1,1)$ and find the direction. The direction we move along is the negative of the gradient of the point in each step.  \n",
        "$$ \\nabla f(x_1, x_2) = \\begin {bmatrix} 6x_1 + 12 + 6x_2 \\\\ \n",
        "  16x_2 + 8 + 6x_1\\end {bmatrix} = \\begin {bmatrix} 6 + 12 + 6 \\\\ 16 + 8 + 6 \\end {bmatrix} = \\begin {bmatrix} 24 \\\\ 30 \\end {bmatrix}$$\n",
        "$$ 3 (1- 24 \\alpha)^2 + 12 (1 - 24 \\alpha) + 8 (1 - 30\\alpha)^2 + 8(1- 30 \\alpha) + 6 (1- 24\\alpha) (1-30 \\alpha)$$\n",
        "$$f(\\alpha) =  13248 \\alpha ^2 - 1476\\alpha + 37 $$\n",
        "$$ \\nabla f(\\alpha) = 26496 \\alpha - 1476 = 0 $$\n",
        "$$ \\alpha = 0.0557$$\n",
        "$$ \\begin {bmatrix} x_1^1 \\\\ x_2 ^1  \\end {bmatrix} = \\begin {bmatrix} 1- 1.3369 = -0.3369 \\\\ 1 - 1.671 = -0.671  \\end {bmatrix}$$\n",
        "Step two : \n",
        "$$ \\nabla f(x_1^1, x_2^1) = \\begin {bmatrix} 6x_1 + 12 + 6x_2 \\\\ \n",
        "  16x_2 + 8 + 6x_1\\end {bmatrix} = \\begin {bmatrix} -2.022 + 12 - 4.026 \\\\ -10.736 + 8 - 2.022 \\end {bmatrix}  = \\begin {bmatrix} 5.952 \\\\ -4.757 \\end{bmatrix} $$\n",
        "$$ 3 (-0.337 - 5.95\\alpha)^2 + 12 (-0.337 - 5.95 \\alpha) + 8 (-0.671 + 4.757\\alpha)^2 + 8(-0.671 + 4.757\\alpha) + 6 (-0.33- 5.95\\alpha) (-0.671+4.757 \\alpha)$$\n",
        "$$f(\\alpha) =  116.9 \\alpha ^2 - 58.05\\alpha -4.112 $$\n",
        "$$ \\nabla f(\\alpha) = 233.8 \\alpha - 58.05 = 0 $$\n",
        "$$ \\alpha = 0.2482$$\n",
        "$$ \\begin {bmatrix} x_1^2 \\\\ x_2 ^2  \\end {bmatrix} = \\begin {bmatrix}  -0.3369 - 1.476 = -1.813 \\\\ -0.671 + 1.18 = 0.509  \\end {bmatrix}$$\n",
        "\n"
      ]
    },
    {
      "cell_type": "code",
      "metadata": {
        "colab": {
          "base_uri": "https://localhost:8080/"
        },
        "id": "yXjIwIeuI4vk",
        "outputId": "0c0536e1-3407-4017-a9a3-a66dea58204a"
      },
      "source": [
        "def grad_func(x_1, x_2) : \n",
        "  res_1 = 6 * x_1 + 12  + 6 * x_2 \n",
        "  res_2 = 16 * x_2 + 8 + 6 * x_1\n",
        "  return res_1, res_2\n",
        "def func (x_1, x_2) : \n",
        "  res = 3 * x_1 **2 + 12*x_1 + 8 * x_2 **2 + 8 * x_2 + 6 * x_1 * x_2 \n",
        "  return res\n",
        "def grad_alpha_func(g_1, g_2, x_1, x_2) :\n",
        "  #  we just use the parameters envolving alpha so : \n",
        "  #  alpha**2 (3 g_1^2 + 8 g_2^2 + 6 g_1g_2) + alpha (-6x_1 g_1 - 12 g_1 - 16 x_2 g_2 - 8 g_2 - 6 g_1 x_2 - 6 x_1 g_2)\n",
        "  # grad (alpha) 2 * (3 g_1^2 + 8 g_2^2 + 6 g_1g_2)* alpha + (-6x_1 g_1 - 12 g_1 - 16 x_2 g_2 - 8 g_2 - 6 g_1 x_2 - 6 x_1 g_2) = 0 \n",
        "  #  alpha = -(-6x_1 g_1 - 12 g_1 - 16 x_2 g_2 - 8 g_2 - 6 g_1 x_2 - 6 x_1 g_2)/(2 * (3 g_1^2 + 8 g_2^2 + 6 g_1g_2))\n",
        "  alpha = (6 * x_1 * g_1  + 12* g_1 + 16 * x_2 * g_2 + 8 * g_2 + 6 * g_1 * x_2 + 6 * x_1 * g_1 )/(6 * g_1**2 + 16 *g_2**2 + 12 * g_1 * g_2)\n",
        "  return alpha\n",
        "def error_cal (f_1 , f_2, epoch) : \n",
        "  err = (f_2 - f_1 )** 2 / epoch \n",
        "  return err \n",
        "def step_cal (x_1, x_2) :\n",
        "  g_1 , g_2 = grad_func(x_1, x_2)\n",
        "  alpha = grad_alpha_func(g_1, g_2, x_1, x_2)\n",
        "  x_1_prime = x_1 - alpha* g_1 \n",
        "  x_2_prime = x_2 - alpha* g_2 \n",
        "  return x_1_prime, x_2_prime \n",
        "x_1 = 1  \n",
        "x_2 = 1 \n",
        "err = []\n",
        "for i in range(1,100) : \n",
        "  x_1_prime, x_2_prime = step_cal(x_1, x_2)\n",
        "  f_1 = func(x_1, x_2)\n",
        "  f_2 = func(x_1_prime, x_2_prime)\n",
        "  err.append(error_cal(f_1, f_2, i))\n",
        "  x_1 = x_1_prime \n",
        "  x_2 = x_2_prime\n",
        "print (err)\n",
        "print(\"optimal x_1 : -2.4 -> \" , x_1, \"optimal x_2 : 0.4 ->\", x_2)"
      ],
      "execution_count": 41,
      "outputs": [
        {
          "output_type": "stream",
          "name": "stdout",
          "text": [
            "[1688.1379962192818, 27.15461132650776, 1.1061145326604642, 0.7223743185163544, 73.21787802465244, 18.479605182472707, 8.515809243651542, 0.030671454511328508, 0.0017377918048809603, 7.459949799270665e-05, 3.4693332884759334e-06, 1.601934392418712e-07, 7.47455048330331e-09, 3.5056019552207056e-10, 1.652867630702475e-11, 7.827640211604769e-13, 3.721579388291374e-14, 1.7755308312714337e-15, 8.497121474698894e-17, 4.077744268526784e-18, 1.9617962284514087e-19, 9.459651447707589e-21, 4.571043243509766e-22, 2.21239701183833e-23, 1.072500576858658e-24, 5.175036765144406e-26, 2.3898395038317732e-27, 1.1539908099233086e-28, 8.813480458331304e-30, 4.20725816117873e-31, 1.017885038994854e-31, 9.860761315262648e-32, 9.561950366315295e-32, 9.280716532011903e-32, 9.015553202525849e-32, 8.765121169122353e-32, 8.528226002389317e-32, 8.30379900232644e-32, 8.090881079189864e-32, 7.888609052210118e-32, 7.696203953375725e-32, 7.512961002104874e-32, 7.33824097880011e-32, 7.171462774736471e-32, 7.012096935297883e-32, 6.859660045400102e-32, 6.713709831668185e-32, 6.573840876841765e-32, 6.439680858947035e-32, 6.310887241768095e-32, 6.187144354674602e-32, 6.068160809392399e-32, 5.953667209215183e-32, 5.843414112748235e-32, 5.737170219789176e-32, 5.634720751578655e-32, 5.53586600155096e-32, 5.440420036006978e-32, 5.348209526922114e-32, 5.259072701473412e-32, 5.172858394891881e-32, 5.08942519497427e-32, 5.008640668069916e-32, 4.930380657631324e-32, 4.854528647513919e-32, 4.7809751831576474e-32, 4.7096173446030555e-32, 4.640358266005952e-32, 4.573106696933402e-32, 4.5077766012629245e-32, 4.4442867899775314e-32, 4.3825605845611765e-32, 4.3225255080603384e-32, 4.2641130011946586e-32, 4.20725816117873e-32, 4.15189950116322e-32, 4.097978728420841e-32, 4.045440539594932e-32, 3.994232431498794e-32, 3.944304526105059e-32, 3.8956094084988235e-32, 3.8481019766878626e-32, 3.8017393022699366e-32, 3.756480501052437e-32, 3.7122866128047614e-32, 3.669120489400055e-32, 3.6269466906713186e-32, 3.5857313873682356e-32, 3.545442270656233e-32, 3.5060484676489415e-32, 3.467520462509942e-32, 3.429830022700051e-32, 3.392950129982847e-32, 3.3568549158340927e-32, 3.321519600930576e-32, 3.2869204384208823e-32, 3.253034660705203e-32, 3.2198404294735173e-32, 3.187316788771765e-32]\n",
            "optimal x_1 : -2.4 ->  -2.060571849962989 optimal x_2 : 0.4 -> -0.28905765432281716\n"
          ]
        }
      ]
    },
    {
      "cell_type": "markdown",
      "metadata": {
        "id": "9aVeBD4tQJEE"
      },
      "source": [
        "## Third Section : \n",
        "We can always apply newton's method on a 2 variant function. The reason is that newton's method finds the minimum of the aprozimate quadratic function so when our own function is quadratic it can find the minimum.\n",
        "$$ p_k = - \\nabla ^2 f(x_k)^ {-1} \\nabla f(x_k) $$ \n",
        "$$ x_{k+1} = x_k + p_k $$ \n",
        "$$ \\nabla ^2 f(x_k) = \\begin {bmatrix}6 , 6 \\\\ 6 , 16 \\end {bmatrix}$$\n",
        "$$ \\nabla ^2 f(x_k)^ {-1} = 1/60  \\begin {bmatrix}16 , -6 \\\\ -6 , 6 \\end {bmatrix}$$\n",
        "$$ \\nabla f(x_k) = \\begin {bmatrix} 6 x_1 + 12 + 6 x_2 \\\\ 16 x_2 + 8 + 6 x_1 \\end {bmatrix}$$\n",
        "$$  \\nabla ^2 f(x_k)^ {-1} \\nabla f(x_k) = 1/60  \\begin {bmatrix}16 , -6 \\\\ -6 , 6 \\end {bmatrix}\n",
        " \\begin {bmatrix} 6 x_1 + 12 + 6 x_2 \\\\ 16 x_2 + 8 + 6 x_1 \\end {bmatrix} =  \\begin {bmatrix} 1.6x_1 + 2.8 \\\\  x_2 - 0.4 \\end {bmatrix}  $$\n",
        "$$ x_1^0, x_2^0 = (1,1)  \\Rightarrow p_1 = \\begin {bmatrix} 4.4 \\\\  0.6 \\end {bmatrix} $$\n",
        "$$ (x_1^1, x_2^1) = (x_1^0 - 4.4, x_2^0 - 0.6 ) = ( -3.4, 0.4)$$\n",
        "$$ f(x_1^1, x_2^1) = -9.80$$\n",
        "$$\\begin {bmatrix} 1.6 * -3.4 + 2.8 \\\\  0.4 - 0.4 \\end {bmatrix}  $$\n",
        "$$  \\Rightarrow p_1 = \\begin {bmatrix} -0.6 \\\\  0 \\end {bmatrix} $$\n",
        "$$ (x_1^2, x_2^2) = (x_1^1 + 0.6, x_2^1 - 0 ) = ( -2.8, 0.4)$$\n",
        "$$ f(x_1^1, x_2^1) = -12.319$$"
      ]
    },
    {
      "cell_type": "markdown",
      "metadata": {
        "id": "aU3ZwYcIQWqp"
      },
      "source": [
        "## Fourth Section : \n",
        "$$ f(x) = [x_1 x_2] \\begin {bmatrix} \\partial^2 f / \\partial x_1 ^2, \\partial f / \\partial x_1 \\partial x_2 \\\\  \\partial^2 f / \\partial x_1 \\partial x_2, \\partial f /  \\partial x_2^2  \\end {bmatrix} \\begin {bmatrix} x_1 \\\\ x_2  \\end {bmatrix} + [12 ,8 ] \\begin {bmatrix} x_1 \\\\ x_2 \\end {bmatrix} $$\n",
        "$$ f(x) = [x_1 x_2] \\begin {bmatrix} 6 , 6 \\\\  6, 16 \\end {bmatrix} \\begin {bmatrix} x_1 \\\\ x_2  \\end {bmatrix} + [12 ,8 ] \\begin {bmatrix} x_1 \\\\ x_2 \\end {bmatrix} $$\n",
        "As we can see the only difference between the second function and the first one is that the first function has a symmetric matrix. Otherwise they are the same and have the same minimun. \n",
        "\n",
        "Accorging to the formula written above the hessian function is always symmetric, since we use the function's hessian matrix to convert it to matrix form this always happen. \n"
      ]
    },
    {
      "cell_type": "markdown",
      "metadata": {
        "id": "_SZ4ahkprPqk"
      },
      "source": [
        "# Problem Two : \n",
        "## First Section : \n",
        "In this section we have set a default step size. The chosen step size causes convergence but changing it can cause faster convergence. This can also cause the points to bounce back and forth around the minimum point and the reason is a big step size. "
      ]
    },
    {
      "cell_type": "markdown",
      "metadata": {
        "id": "IzquP8szetVI"
      },
      "source": [
        "$$ f = x_1 ^2 - 10  x_2   cos(0.2 \\pi x_1) + x_2 ^2 - 15   x_1   cos(0.4  \\pi   x_2) $$ \n",
        "\n",
        "$$ \\Rightarrow \\Delta f = \\begin {bmatrix} 2  x_1 + 2   x_2   \\pi   sin(0.2   \\pi   x_1) - 15    cos(0.4   \\pi   x_2) \\\\\n",
        "- 10   cos (0.2   \\pi   x_1) + 2   x_2 + 6   \\pi   x_1   sin(0.4   \\pi   x_2) \\end {bmatrix}  $$\n"
      ]
    },
    {
      "cell_type": "code",
      "metadata": {
        "id": "orYQ_jB4jVZJ"
      },
      "source": [
        "def grad (x1 ,x2) :\n",
        "  pi = np.math.pi \n",
        "  grad_x1 = 4 * x1  + 2 * pi * np.math.sin( 0.2 * pi * x1 ) - 15 * np.math.cos(0.4 * pi * x2) \n",
        "  grad_x2 = -10 * np.math.cos(0.2 * pi * x1) + 2 * x2 + 6 * x1 * pi * np.math.sin(0.4 * pi * x2)\n",
        "  return grad_x1, grad_x2 "
      ],
      "execution_count": 42,
      "outputs": []
    },
    {
      "cell_type": "code",
      "metadata": {
        "id": "NiuA-1qNkxtB"
      },
      "source": [
        "def func (x1, x2) :\n",
        "  pi = np.math.pi \n",
        "  result = x1 **2 - 10 * x2 * np.math.cos(0.2 * pi * x1) + x2 **2 - 15 * x1 * np.math.cos(0.4 * pi * x2) \n",
        "  return result"
      ],
      "execution_count": 43,
      "outputs": []
    },
    {
      "cell_type": "code",
      "metadata": {
        "colab": {
          "base_uri": "https://localhost:8080/",
          "height": 346
        },
        "id": "Rsm6EH6uoPrR",
        "outputId": "40cc5376-6182-4269-b7ab-0e2d456804fc"
      },
      "source": [
        "x1 = np.random.randint(-15, 15)\n",
        "x2 = np.random.randint(-15, 15)\n",
        "print (x1, x2)\n",
        "res = func(x1, x2)\n",
        "diff = 100 \n",
        "temp_res = []\n",
        "while (abs(diff) > 0.1) :\n",
        "  grad_x1, grad_x2 = grad(x1, x2) \n",
        "  x1 -= 0.1 * grad_x1  \n",
        "  x2 -= 0.1 * grad_x2 \n",
        "  temp_res.append(func(x1, x2))\n",
        "  diff = res - temp_res[len(temp_res)-1]\n",
        "  res = temp_res[len(temp_res)-2]\n",
        "\n",
        "print(x1, x2)\n",
        "plt.plot(range(len(temp_res)), temp_res)\n",
        "plt.ylabel('results')\n",
        "plt.xlabel('epochs')\n",
        "plt.title( 'plot of the function outputs versus epochs')\n",
        "plt.savefig('first.jpg')\n",
        "print(temp_res[len(temp_res)-1])"
      ],
      "execution_count": 44,
      "outputs": [
        {
          "output_type": "stream",
          "name": "stdout",
          "text": [
            "5 11\n",
            "-0.5339877943942632 5.0399714948988965\n",
            "-13.903309908657253\n"
          ]
        },
        {
          "output_type": "display_data",
          "data": {
            "text/plain": [
              "<Figure size 432x288 with 1 Axes>"
            ],
            "image/png": "[encoded data removed]"
          },
          "metadata": {
            "needs_background": "light"
          }
        }
      ]
    },
    {
      "cell_type": "markdown",
      "metadata": {
        "id": "WxpriVdfrkPp"
      },
      "source": [
        "The first initialization points are :\n",
        "$$ x_1 = -15 $$\n",
        "$$ x_2 = -11 $$ \n",
        "resulting coordinates : \n",
        "$$ x_1 = -0.5484673785076066  $$ \n",
        "$$ x_2 =  1.9263129010738789 $$ \n",
        "resulting value of the function :\n",
        "$$ f(x_1final, x_2final) = -20.299224457834338 $$\n"
      ]
    },
    {
      "cell_type": "markdown",
      "metadata": {
        "id": "tq8CA1xDPx1i"
      },
      "source": [
        "The second initialization points are :\n",
        "$$ x_1 = -10 $$\n",
        "$$ x_2 = -2 $$ \n",
        "resulting coordinates : \n",
        "$$ x_1 = -0.42443404057273704   $$ \n",
        "$$ x_2 = 4.134816544168068 $$ \n",
        "resulting value of the function :\n",
        "$$ f(x_1final, x_2final) = -19.649615025592603 $$"
      ]
    },
    {
      "cell_type": "markdown",
      "metadata": {
        "id": "b5fOETd3QI6y"
      },
      "source": [
        "## Second Section\n",
        "###Deterministic methods :\n",
        "$$ x_1^0 = 7 $$\n",
        "$$ x_2^0 = 10 $$\n",
        "$$ f(7, 10 ) = 74.90169943749476$$\n",
        "$$ \\Rightarrow \\Delta f = \\begin {bmatrix} -6.975 \\\\  23.09 \\end {bmatrix} $$\n",
        "$$\\begin{bmatrix} x_1^1 \\\\ x_2^1  \\end{bmatrix} = \\begin{bmatrix} 7 \\\\ 10  \\end{bmatrix} + \\begin{bmatrix} 6.975 \\alpha \\\\ -23.09  \\alpha \\end{bmatrix}  $$\n",
        "$$ f = x_1 ^2 - 10  x_2   cos(0.2 \\pi x_1) + x_2 ^2 - 15   x_1   cos(0.4  \\pi   x_2) $$ \n",
        "$$ \\alpha = 0.54368$$\n",
        "$$\\begin{bmatrix} x_1^1 \\\\ x_2^1  \\end{bmatrix} = \\begin{bmatrix} 7 + 6.975 *0.5436 \\\\ 10 - 23.09 *0.5436 \\end{bmatrix} =  \\begin{bmatrix} 10.79 \\\\  -2.55 \\end{bmatrix}$$\n",
        "$$ x_1^1 = 10.79 $$\n",
        "$$ x_2^1 = -2.55 $$\n",
        "$$ f(10.79, -2.55) = 306.8797919059749 $$\n",
        "$$ \\Rightarrow \\Delta f = \\begin {bmatrix} 39.542 \\\\  -1.122 \\end {bmatrix} $$\n",
        "$$\\begin{bmatrix} x_1^2 \\\\ x_2^2  \\end{bmatrix} = \\begin{bmatrix} 10.79 \\\\ -2.55  \\end{bmatrix} + \\begin{bmatrix} -39.542 \\alpha \\\\ 1.122  \\alpha \\end{bmatrix}  $$\n",
        "$$ \\alpha = 0.4031$$\n",
        "$$\\begin{bmatrix} x_1^1 \\\\ x_2^1  \\end{bmatrix} = \\begin{bmatrix} 10.79 - 39.542 *0.4031\\\\ -2.55 + 1.122 *0.4031 \\end{bmatrix} =  \\begin{bmatrix} -5.14 \\\\  -2.097 \\end{bmatrix}$$\n",
        "$$ f(-5.14, -2.097) = -57.49465143887355$$\n"
      ]
    },
    {
      "cell_type": "code",
      "metadata": {
        "colab": {
          "base_uri": "https://localhost:8080/",
          "height": 156
        },
        "id": "SZnzgSaSQ3f8",
        "outputId": "ceb31f84-26a6-4f35-8460-ec056fd48d6d"
      },
      "source": [
        "from sympy.solvers import nsolve\n",
        "from sympy import Symbol\n",
        "import sympy as sp\n",
        "pi = sp.pi\n",
        "x_1 = 10.79\n",
        "x_2 = -2.55\n",
        "g_1 = 39.54269381042806 \n",
        "g_2 = -1.1224060165269147\n",
        "# (x_1 - g_1*x)^2 - 10 * (x_2 - g_2 x)cos(0.2* pi* (x_1 - g_1 x)) + (x_2 - g_2x)^2 - 15 * (x_1 - g_1x)cos(0.4 * pi * (x_2- g_2x))\n",
        "# -2 g_1(x_1 - g_1*x)+ 10 * g_2 *x cos(0.2* pi* (x_1 - g_1 x)) - 2 * pi * g_1 (x_2 - g_2 x)sin(0.2* pi* (x_1 - g_1 x)) - 2(x_2 - g_2x) + 15g_1cos(0.4 * pi * (x_2- g_2x)) - 6* pi * g_2(x_1 - g_1x)sin(0.4 * pi * (x_2- g_2x))\n",
        "x = Symbol('x')\n",
        "equation = sp.Eq(-2* g_1*(x_1 - g_1*x)+ 10 * g_2 *x *sp.cos(0.2* pi* (x_1 - g_1* x)) - 2 * pi * g_1 *(x_2 - g_2* x)*sp.sin(0.2* pi* (x_1 - g_1 *x)) - 2*(x_2 - g_2*x) + 15*g_1*sp.cos(0.4 * pi * (x_2- g_2*x)) - 6* pi * g_2*(x_1 - g_1*x)*sp.sin(0.4 * pi * (x_2- g_2*x)) )\n",
        "nsolve(equation,  x, 1)\n"
      ],
      "execution_count": 45,
      "outputs": [
        {
          "output_type": "stream",
          "name": "stderr",
          "text": [
            "/usr/local/lib/python3.7/dist-packages/sympy/core/relational.py:496: SymPyDeprecationWarning: \n",
            "\n",
            "Eq(expr) with rhs default to 0 has been deprecated since SymPy 1.5.\n",
            "Use Eq(expr, 0) instead. See\n",
            "https://github.com/sympy/sympy/issues/16587 for more info.\n",
            "\n",
            "  deprecated_since_version=\"1.5\"\n"
          ]
        },
        {
          "output_type": "execute_result",
          "data": {
            "text/plain": [
              "0.403171914805831"
            ],
            "text/latex": "$\\displaystyle 0.403171914805831$"
          },
          "metadata": {},
          "execution_count": 45
        }
      ]
    },
    {
      "cell_type": "markdown",
      "metadata": {
        "id": "qqUMorzfbLrK"
      },
      "source": [
        "###Armijo Method :\n",
        "For applying armijo, we need two parameters $c_1$ and $\\beta$. First one is used in the Armijo rule for determining when we have the right step size and the second one diminishes the alpha in every step size(this is used in the inner iterations). \n",
        "\n",
        "Armijo rule : $$ f(x_k + \\alpha_k p_k) ≤ f(x_k) + \\alpha c_1  ∇f(x_k) ^T p_k) $$\n",
        "\n",
        "If $\\alpha$ does not satisfy the rule, then we diminish it by a factor of $\\beta$ and continue the process. "
      ]
    },
    {
      "cell_type": "code",
      "metadata": {
        "id": "217xmP9EwTJq",
        "colab": {
          "base_uri": "https://localhost:8080/"
        },
        "outputId": "7b150f65-a695-4663-e35f-90a4179bd256"
      },
      "source": [
        "def armijo_check (alpha, g_1, g_2, x_1, x_2) : \n",
        "   c_1 = 0.01\n",
        "   f_1 = func(x_1 + alpha * g_1, x_2 + alpha * g_2)\n",
        "   f_2 = func(x_1, x_2) + alpha * c_1 * ( g_1** 2+  g_2**2)\n",
        "   return f_1 <= f_2\n",
        "x_1 = 0\n",
        "x_2 = 0\n",
        "g_1, g_2 = grad(x_1, x_2)\n",
        "print(g_1, g_2)\n",
        "alpha = 3\n",
        "for i in range(5) :\n",
        "  while not armijo_check(alpha, -1* g_1,-1* g_2, x_1, x_2) : \n",
        "    alpha = alpha /1.5\n",
        "  print (\"last step's alpha :\", alpha)\n",
        "  alpha = 2 *(func(x_1, x_2)- func(x_1 - g_1 * alpha,x_2 - g_2 * alpha ))/ (g_1 **2 + g_2 **2)\n",
        "  print(\"initial alpha for new step :\", alpha)\n",
        "  print(\"function value at point x_k :\",func(x_1, x_2))\n",
        "  print(\"Point of this iteration\", x_1, x_2)\n",
        "  x_1 = x_1 - g_1 * alpha \n",
        "  x_2 = x_2 - g_2 * alpha \n",
        "  g_1, g_2 = grad(x_1, x_2)"
      ],
      "execution_count": 46,
      "outputs": [
        {
          "output_type": "stream",
          "name": "stdout",
          "text": [
            "-15.0 -10.0\n",
            "last step's alpha : 0.11705532693187014\n",
            "initial alpha for new step : 0.021217717191443865\n",
            "function value at point x_k : 0.0\n",
            "Point of this iteration 0 0\n",
            "last step's alpha : 0.021217717191443865\n",
            "initial alpha for new step : 0.04083736877827723\n",
            "function value at point x_k : -6.538471620609563\n",
            "Point of this iteration 0.31826575787165795 0.21217717191443863\n",
            "last step's alpha : 0.04083736877827723\n",
            "initial alpha for new step : 0.1281112080244975\n",
            "function value at point x_k : -13.211458779654642\n",
            "Point of this iteration 0.8062231990684181 0.5305328560187439\n",
            "last step's alpha : 0.08540747201633166\n",
            "initial alpha for new step : 0.06463962351903395\n",
            "function value at point x_k : -20.403398898790577\n",
            "Point of this iteration 1.5127272384826798 0.31088830376216664\n",
            "last step's alpha : 0.06463962351903395\n",
            "initial alpha for new step : 0.004816391489399556\n",
            "function value at point x_k : -22.131346693348235\n",
            "Point of this iteration 1.6876619198100982 -0.055447435583841076\n"
          ]
        }
      ]
    },
    {
      "cell_type": "markdown",
      "metadata": {
        "id": "MfXm29bhJ73k"
      },
      "source": [
        "### Comparison : \n",
        "Armijo method depends on the first alpha we choose, the same as newton method. If the initial value is chosen carelessly, the method may not converge. Analytic method on the other hand converges all the times. "
      ]
    },
    {
      "cell_type": "markdown",
      "metadata": {
        "id": "dSGbiSsNd3nR"
      },
      "source": [
        "# Third Section : \n",
        "## Metaheuristic Methods :\n",
        "Genetic Algorithm \n",
        "  - Generate first generation \n"
      ]
    },
    {
      "cell_type": "code",
      "metadata": {
        "id": "41_EnCVoeJkG"
      },
      "source": [
        "x_1 = np.random.uniform(-15, 15, 500)\n",
        "x_2 = np.random.uniform(-15, 15, 500)"
      ],
      "execution_count": 47,
      "outputs": []
    },
    {
      "cell_type": "markdown",
      "metadata": {
        "id": "atEeZcx5efUM"
      },
      "source": [
        "-  Randomely select parents \n",
        "-  Generate children"
      ]
    },
    {
      "cell_type": "code",
      "metadata": {
        "id": "Jg_Xnt5te7wR"
      },
      "source": [
        "def gen_children (x_1, x_2) : \n",
        "  #  First we must randomely choose parents \n",
        "  #  This is done by generating random indices from the parents \n",
        "  x_1_parent_indices = np.random.randint(0, 500, 300)\n",
        "  x_2_parent_indices = np.random.randint(0, 500, 300)\n",
        "  x_1_children = []\n",
        "  x_2_children = []\n",
        "  mutation_rate = 50 \n",
        "  for i in range(0, 300, 2) :\n",
        "    if (not(i % 50)) :\n",
        "      #  This part generates the mutation children from the parents \n",
        "      #  Each mutation happens 1 per 50 parents and each mutation is modeled with random summation of normal values\n",
        "      x_1_children.append(x_1[x_1_parent_indices[i]]+ np.random.normal(0,0.01) + x_1[x_1_parent_indices[i+1]]+ np.random.normal(0,0.01))\n",
        "      x_1_children.append(x_1[x_1_parent_indices[i]]+ np.random.normal(1,0.01) + x_1[x_1_parent_indices[i+1]]+ np.random.normal(1,0.01))\n",
        "      x_2_children.append(x_2[x_2_parent_indices[i]]+ np.random.normal(0,0.01) + x_2[x_2_parent_indices[i+1]]+ np.random.normal(0,0.01))\n",
        "      x_2_children.append(x_2[x_2_parent_indices[i]]+ np.random.normal(1,0.01) + x_2[x_2_parent_indices[i+1]]+ np.random.normal(1,0.01))\n",
        "    else :\n",
        "      #  This part generates the children from each couple of parents \n",
        "      #  X's of the children are inherited from their parents by first being \n",
        "      #  the mean of their X's and then by the 1/3 of their X's\n",
        "      x_1_children.append(x_1[x_1_parent_indices[i]]/2 + x_1[x_1_parent_indices[i+1]]/2)\n",
        "      x_1_children.append(x_1[x_1_parent_indices[i]]/3 + x_1[x_1_parent_indices[i+1]]/3)\n",
        "      x_2_children.append(x_2[x_2_parent_indices[i]]/2 + x_2[x_2_parent_indices[i+1]]/2)\n",
        "      x_2_children.append(x_2[x_2_parent_indices[i]]/3 + x_2[x_2_parent_indices[i+1]]/3)\n",
        "  res = []\n",
        "  for i in range(500) :\n",
        "    res.append(func(x_1[i], x_2[i]))\n",
        "# The elite parents are passed through children without any change ,\n",
        "# these are chosen with sorting. \n",
        "#  Parents that have the minimum amounts among this generation \n",
        "#  will be chosen as elite.\n",
        "  indices = np.argsort(res)\n",
        "  elite_x_1 = x_1 [indices[0:200]]\n",
        "  elite_x_2 = x_2 [indices[0:200]]\n",
        "  return [*x_1_children ,*elite_x_1 ], [*x_2_children, *elite_x_2]"
      ],
      "execution_count": 48,
      "outputs": []
    },
    {
      "cell_type": "code",
      "metadata": {
        "id": "JmK_xRxDuJPH"
      },
      "source": [
        "def average_cost (children_x_1, children_x_2) : \n",
        "  cost = 0 \n",
        "  for i in range(500):\n",
        "    cost += func(children_x_1[i], children_x_2[i])\n",
        "  return cost/500 "
      ],
      "execution_count": 49,
      "outputs": []
    },
    {
      "cell_type": "code",
      "metadata": {
        "id": "i3V2-rLJt4Hy",
        "colab": {
          "base_uri": "https://localhost:8080/",
          "height": 282
        },
        "outputId": "12121ffc-9431-49df-a1e4-a1a12128871e"
      },
      "source": [
        "diff = 100 \n",
        "parent_x_1 = x_1\n",
        "parent_x_2 = x_2\n",
        "temp_cost = []\n",
        "while diff > 0.01 : \n",
        "  children_x_1, children_x_2 = gen_children(parent_x_1, parent_x_2)\n",
        "  cost = average_cost(parent_x_1, parent_x_2)\n",
        "  temp_cost.append(average_cost(children_x_1, children_x_2))\n",
        "  diff =  cost - temp_cost[len(temp_cost)-1]\n",
        "  parent_x_1 = np.asarray(children_x_1)\n",
        "  parent_x_2 = np.asarray(children_x_2)\n",
        "\n",
        "plt.plot(range(len(temp_cost)), temp_cost)"
      ],
      "execution_count": 50,
      "outputs": [
        {
          "output_type": "execute_result",
          "data": {
            "text/plain": [
              "[<matplotlib.lines.Line2D at 0x7f9ebdb5fad0>]"
            ]
          },
          "metadata": {},
          "execution_count": 50
        },
        {
          "output_type": "display_data",
          "data": {
            "text/plain": [
              "<Figure size 432x288 with 1 Axes>"
            ],
            "image/png": "[encoded data removed]"
          },
          "metadata": {
            "needs_background": "light"
          }
        }
      ]
    },
    {
      "cell_type": "markdown",
      "metadata": {
        "id": "zX1q1h3Y9YhU"
      },
      "source": [
        "# Problem Three :\n",
        "## Part One :\n",
        "  - Random initial weights : $$ W = \\begin {bmatrix} w_1 = 0.4 \\\\ w_2 = 0.3 \\end {bmatrix} $$ $ b = 0.2$\n",
        "  - Fit each data in the equation : \n",
        "   $$ X_1(1,0) \\Rightarrow  Y_1 = 1 $$\n",
        "   $$ X_2(0,1) \\Rightarrow  Y_2 = 1 $$\n",
        "   $$ X_3(-1,0) \\Rightarrow Y_3 = -1 $$\n",
        "   $$ Y^1_1 = 0.4 * 1 + 0.3 * 0  + 0.2 = 0.6  $$ $ 1 - 1 * Y^1_1 = 0.4 > 0 $\n",
        "   $$ loss = 1/2 * 0.5^2 + 0.1 * 0.4 = 0.165 $$\n",
        "   $$ W^1 = \\begin {bmatrix} w_1 = 0.4 - 0.1 * 1 = 0.3 \\\\ w_2 = 0.3 - 0 = 0.3 \\end {bmatrix} $$\n",
        "   $$ Y^1_2 = 0.3 * 0 + 0.3 * 1  + 0.2 = 0.5  $$ $ 1 - 1 * Y^1_2 = 0.5 > 0 $\n",
        "   $$ loss = 1/2 * 0.4242^2 + 0.1 * 0.5 = 0.1399 $$\n",
        "   $$ W^2 = \\begin {bmatrix} w_1 = 0.3 - 0.1 * 0 = 0.3 \\\\ w_2 = 0.3 - 1 * 0.1 = 0.2 \\end {bmatrix} $$\n",
        "  $$ Y^1_3 = 0.3 * -1 + 0.2 * 0  + 0.2 = - 0.3  $$ $ 1 - (-1) * Y^1_3 = 1.3 > 0 $\n",
        "   $$ loss = 1/2 * 0.13^2 + 0.1 * 1.3 = 0.13845 $$\n",
        "   $$ W^3 = \\begin {bmatrix} w_1 = 0.3 - 0.1 * (-1 * -1) = 0.2 \\\\ w_2 = 0.3 - 0 * 0.1 = 0.2 \\end {bmatrix} $$\n",
        "## Part Two :\n",
        "### Analytical :\n",
        "In an SVM problem we use hyperplanes to cluster data in distinct groups. The clustration is done with the help of labled data we have. Formulation of an SVM is as below. The formulation and variables are shown for a two-class SVM.\n",
        "$$ {x_i, y_i} \\Rightarrow i = {1,2,...,L } $$\n",
        "$$ y \\in [-1, 1]$$\n",
        "$$ x \\in R  $$\n",
        "In an SVM, the problem is to optimize the weights corresponding to each data. With this the hyperplane in a 2-D dimension is shown as below. \n",
        "![image.png](data:image/png;base64,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)\n",
        "\n",
        "$$ W*x + b = y $$\n",
        "In machine learning problems like SVM, the goal is to recognize when a new data belongs to an existing group or cluster. This can simply be done by finding a line that seperates the data. To better achieve this goal, support vectors and lines are also designed to reduce the fault of the system. Support vectors are shown in the figure above. Support vectors are the closest datas to the line chosen as the distinguisher between datas. In a SVM problem, optimization is done to widen the width of the support vectors.\n",
        "\n",
        "$$ w*x_i + b > 1 \\in C_1$$\n",
        "$$ w*x_i + b < -1 \\in C_2$$\n",
        "Support vectors are $$ \\Rightarrow w*x + b = -1 $$\n",
        "$$ w*x + b = 1 $$\n",
        "In order to widen the band between $H_1$ and $H_2$ we must maximize $ 1/ \\|w \\|$.\n",
        "The loss function is : \n",
        "$$  L = 1/2 * \\| w \\| ^2 - \\alpha \\Sigma * (y_i * (w*x_i + b ) -1 ) $$"
      ]
    },
    {
      "cell_type": "code",
      "metadata": {
        "id": "AP35BLceJhC2"
      },
      "source": [
        "from sklearn.linear_model import SGDClassifier\n",
        "from sklearn import datasets \n",
        "from sklearn import svm \n",
        "from sklearn.model_selection import train_test_split\n",
        "from sklearn.metrics import classification_report, confusion_matrix\n",
        "from sklearn.utils import shuffle\n",
        "\n",
        "iris = datasets.load_iris()\n",
        "data = iris.data[:, :2]\n",
        "data = np.insert(data, 2, np.ones(len(data)), axis=1)\n",
        "lable = iris.target\n",
        "X_train, X_test, y_train, y_test = train_test_split(data, lable, test_size = 0.1)"
      ],
      "execution_count": 51,
      "outputs": []
    },
    {
      "cell_type": "code",
      "metadata": {
        "id": "COlBK_bvPEfC"
      },
      "source": [
        "def delta_loss_func(x_1, x_2, y, w) :\n",
        "  Loss = []\n",
        "  condition =  1 - y * (w[0] *x_1 + w[1] * x_2 + w[2])\n",
        "  c = 100\n",
        "  if (condition > 0 ) :\n",
        "    Loss.append(w[0] - c * y * x_1)\n",
        "    Loss.append(w[1] - c * y * x_2)\n",
        "    Loss.append(w[2] - c * y )\n",
        "  else : \n",
        "    Loss = w\n",
        "  return Loss\n",
        "def update_weight_SGD (x_1, x_2, y, w, alpha) :\n",
        "  sum = [0, 0, 0] \n",
        "  c = 100\n",
        "  w_prime = []\n",
        "  for i in range(len(x_1)) :\n",
        "    sum_1, sum_2, sum_3 = delta_loss_func(x_1[i], x_2[i], y[i], w)\n",
        "    sum[0] += sum_1/len(x_1)\n",
        "    sum[1] += sum_2/len(x_1)\n",
        "    sum[2] += sum_3/len(x_1)\n",
        "  w_prime.append(w[0]- alpha * sum[0])\n",
        "  w_prime.append( w[1]- alpha * sum[1])\n",
        "  w_prime.append( w[2] - alpha * sum[2])\n",
        "  return w_prime[0], w_prime[1], w_prime[2]\n",
        "def update_weight_GD (x_1, x_2, y, w, alpha) :\n",
        "  c = 100\n",
        "  alpha = armijo(alpha, x_1, x_2, y, w)\n",
        "  loss_1, loss_2, loss_3 = delta_loss_func(x_1, x_2, y, w)\n",
        "  w_prime_0 = w[0] - alpha *c * loss_1 \n",
        "  w_prime_1 = w[1] - alpha *c * loss_2\n",
        "  w_prime_2 = w[2] - alpha *c * loss_3\n",
        "  return w_prime_0,  w_prime_1, w_prime_2, alpha\n",
        "def loss_cal(x_1, x_2, y, w) :\n",
        "  c = 100\n",
        "  loss = 0\n",
        "  for i in range(len(x_1)) : \n",
        "    condition_1 = 1 - y[i] * (w[0]* x_1[i] + w[1]* x_2[i] + w[2])\n",
        "    if (condition_1 > 0 ) :\n",
        "      loss +=  c* (condition_1/len(x_1))\n",
        "  return loss + 0.5 * (w[0]**2 + w[1]**2 + w[2]**2)\n",
        "def single_loss_cal(x_1, x_2, y, w) :\n",
        "  c = 100\n",
        "  loss = 0\n",
        "  condition_1 = 1 - y * (w[0]* x_1 + w[1]* x_2 + w[2])\n",
        "  if (condition_1 > 0 ) :\n",
        "    loss +=  c* (condition_1)\n",
        "  return loss + 0.5 * (w[0]**2 + w[1]**2 + w[2]**2)\n",
        "def armijo_check (alpha, x_1, x_2, y, w) : \n",
        "   c_1 = 0.0001\n",
        "   c = 100\n",
        "   loss = delta_loss_func(x_1, x_2, y, w) \n",
        "   w_new = np.asarray(w)- alpha * c * np.asarray(loss)\n",
        "   f_1 = single_loss_cal(x_1, x_2, y, w_new)\n",
        "   f_2 = single_loss_cal(x_1, x_2, y, w ) - alpha * c_1 * ( loss[0]**2 + loss[1]**2 + loss[2]**2)\n",
        "   return f_1 <= f_2\n",
        "def armijo (alpha, x_1, x_2, y, w):\n",
        "    while not armijo_check(alpha, x_1, x_2, y, w) : \n",
        "      alpha = alpha /2\n",
        "    # print (\"last step's alpha :\", alpha)\n",
        "    return alpha"
      ],
      "execution_count": 52,
      "outputs": []
    },
    {
      "cell_type": "code",
      "metadata": {
        "id": "Rg0yGBrKaFUF",
        "colab": {
          "base_uri": "https://localhost:8080/",
          "height": 265
        },
        "outputId": "ff2855f9-2444-4163-e1fb-555b33bb9ace"
      },
      "source": [
        "def SVM_SGD (x_1, x_2, y):\n",
        "  y_0 = np.zeros(len(y))\n",
        "  y_1 = np.zeros(len(y))\n",
        "  y_2 = np.zeros(len(y)) \n",
        "  for i in range(len(y)) :\n",
        "    if (y[i] == 0 ) : \n",
        "      y_0 [i] = 1\n",
        "      y_1 [i] = -1\n",
        "      y_2 [i] = -1\n",
        "    elif (y[i] == 1) :\n",
        "      y_0 [i] = -1\n",
        "      y_1 [i] = 1\n",
        "      y_2 [i] = -1\n",
        "    elif (y[i] == 2) :\n",
        "      y_0 [i] = -1\n",
        "      y_1 [i] = -1\n",
        "      y_2 [i] = 1 \n",
        "  weights_0 = [np.random.normal(), np.random.normal(), np.random.normal()]\n",
        "  weights_1 = [np.random.normal(), np.random.normal(), np.random.normal()]\n",
        "  weights_2 = [np.random.normal(), np.random.normal(), np.random.normal()]\n",
        "  \n",
        "  loss_0 = []\n",
        "  loss_1 = []\n",
        "  loss_2 = []\n",
        "  alpha = 0.001\n",
        "  for i in range(1000) :\n",
        "    loss_0.append(loss_cal(x_1, x_2, y_0, weights_0 ))\n",
        "    loss_1.append(loss_cal(x_1, x_2, y_1, weights_1 ))\n",
        "    loss_2.append(loss_cal(x_1, x_2, y_2, weights_2 )) \n",
        "    weights_0 = update_weight_SGD(x_1, x_2, y_0, weights_0, alpha )\n",
        "    weights_1 = update_weight_SGD(x_1, x_2, y_1, weights_1, alpha )\n",
        "    weights_2 = update_weight_SGD(x_1, x_2, y_2, weights_2, alpha )\n",
        "    alpha = alpha/5\n",
        "    # print(weights_0)\n",
        "    x_1, x_2, y_0, y_1, y_2 = shuffle(x_1, x_2, y_0, y_1, y_2)\n",
        "  plt.plot(range(len(loss_0)), loss_0)\n",
        "  return weights_0, weights_1, weights_2\n",
        "\n",
        "Weights_SGD = SVM_SGD(X_train[:, 0], X_train[:, 1], y_train)"
      ],
      "execution_count": 53,
      "outputs": [
        {
          "output_type": "display_data",
          "data": {
            "text/plain": [
              "<Figure size 432x288 with 1 Axes>"
            ],
            "image/png": "[encoded data removed]"
          },
          "metadata": {
            "needs_background": "light"
          }
        }
      ]
    },
    {
      "cell_type": "code",
      "metadata": {
        "id": "M7twzBqcDgaA",
        "colab": {
          "base_uri": "https://localhost:8080/",
          "height": 265
        },
        "outputId": "f816b7d2-c807-4c78-ec98-89417e437222"
      },
      "source": [
        "def SVM_GD (x_1, x_2, y):\n",
        "  y_0 = np.zeros(len(y))\n",
        "  y_1 = np.zeros(len(y))\n",
        "  y_2 = np.zeros(len(y)) \n",
        "  for i in range(len(y)) :\n",
        "    if (y[i] == 0 ) : \n",
        "      y_0 [i] = 1\n",
        "      y_1 [i] = -1\n",
        "      y_2 [i] = -1\n",
        "    elif (y[i] == 1) :\n",
        "      y_0 [i] = -1\n",
        "      y_1 [i] = 1\n",
        "      y_2 [i] = -1\n",
        "    elif (y[i] == 2) :\n",
        "      y_0 [i] = -1\n",
        "      y_1 [i] = -1\n",
        "      y_2 [i] = 1 \n",
        "  weights_0 = [np.random.normal(), np.random.normal(), np.random.normal()]\n",
        "  weights_1 = [np.random.normal(), np.random.normal(), np.random.normal()]\n",
        "  weights_2 = [np.random.normal(), np.random.normal(), np.random.normal()]\n",
        "  \n",
        "  loss_0 = []\n",
        "  loss_1 = []\n",
        "  loss_2 = []\n",
        "  alpha_0 = 100\n",
        "  alpha_1 = 100\n",
        "  alpha_2 = 100\n",
        "  for j in range(30) :\n",
        "    for i in range(len(x_1)) :\n",
        "      loss_0.append(loss_cal(x_1, x_2, y_0, weights_0 ))\n",
        "      loss_1.append(loss_cal(x_1, x_2, y_1, weights_1 ))\n",
        "      loss_2.append(loss_cal(x_1, x_2, y_2, weights_2 )) \n",
        "      weights_0[0], weights_0[1], weights_0[2], alpha_0 = update_weight_GD(x_1[i], x_2[i], y_0[i], weights_0, alpha_0)\n",
        "      weights_1[0], weights_1[1], weights_1[2], alpha_1 = update_weight_GD(x_1[i], x_2[i], y_1[i], weights_1, alpha_1)\n",
        "      weights_2[0], weights_2[2], weights_2[2], alpha_2 = update_weight_GD(x_1[i], x_2[i], y_2[i], weights_2, alpha_2)\n",
        "    plt.plot(range(len(loss_0)), loss_0)\n",
        "    plt.plot(range(len(loss_1)), loss_1)\n",
        "    plt.plot(range(len(loss_2)), loss_2)\n",
        "    x_1, x_2, y_0, y_1, y_2 = shuffle(x_1, x_2, y_0, y_1, y_2)\n",
        "  return weights_0, weights_1, weights_2\n",
        "weights_GD = SVM_GD(X_train[:, 0], X_train[:, 1], y_train)"
      ],
      "execution_count": 54,
      "outputs": [
        {
          "output_type": "display_data",
          "data": {
            "text/plain": [
              "<Figure size 432x288 with 1 Axes>"
            ],
            "image/png": "[encoded data removed]"
          },
          "metadata": {
            "needs_background": "light"
          }
        }
      ]
    },
    {
      "cell_type": "code",
      "metadata": {
        "id": "VNw5F6MC184_",
        "colab": {
          "base_uri": "https://localhost:8080/",
          "height": 369
        },
        "outputId": "428f2b81-ec74-4107-8be5-1b745d20d6cf"
      },
      "source": [
        "weights_GD = SVM_GD(X_train[:, 0], X_train[:, 1], y_train)\n",
        "\n",
        "y_pred_0 = np.asarray(X_test[:, 0])* weights_GD[0][0]+ np.asarray(X_test[:, 1])* weights_GD[0][1]+ weights_GD[0][2]\n",
        "y_pred_1 = np.asarray(X_test[:, 0])* weights_GD[1][0]+ np.asarray(X_test[:, 1])* weights_GD[1][1]+ weights_GD[1][2]\n",
        "y_pred_2 = np.asarray(X_test[:, 0])* weights_GD[2][0]+ np.asarray(X_test[:, 1])* weights_GD[2][1]+ weights_GD[2][2]\n",
        "y_pred_0 [np.where(y_pred_0 > 0 )] = 1 \n",
        "y_pred_0 [np.where(y_pred_0 < 0 )] = -1\n",
        "y_pred_1 [np.where(y_pred_1 > 0 )] = 1 \n",
        "y_pred_1 [np.where(y_pred_1 < 0 )] = -1 \n",
        "y_pred_2 [np.where(y_pred_2 > 0 )] = 1 \n",
        "y_pred_2 [np.where(y_pred_2 < 0 )] = -1 \n",
        "y_test_0 = np.where(y_test == 0)\n",
        "y_pred_0 [y_test_0] += 1\n",
        "zero_tp = len(np.where(y_pred_0 == 2 )[0])\n",
        "zero_fn = len(np.where(y_pred_0 == 0 )[0])\n",
        "zero_fp = len(np.where(y_pred_0 == 1 )[0])\n",
        "zero_tn = len(y_test)- zero_tp - zero_fn - zero_fp\n",
        "y_test_1 = np.where(y_test == 1)\n",
        "y_pred_1 [y_test_1] += 1\n",
        "one_tp = len(np.where(y_pred_1 == 2 )[0])\n",
        "one_fn = len(np.where(y_pred_1 == 0 )[0])\n",
        "one_fp = len(np.where(y_pred_1 == 1 )[0])\n",
        "one_tn = len(y_test)- one_tp - one_fn - one_fp\n",
        "y_test_2 = np.where(y_test == 2)\n",
        "y_pred_2 [y_test_2] += 1\n",
        "two_tp = len(np.where(y_pred_2 == 2 )[0])\n",
        "two_fn = len(np.where(y_pred_2 == 0 )[0])\n",
        "two_fp = len(np.where(y_pred_2 == 1 )[0])\n",
        "two_tn = len(y_test)- two_tp - two_fn - two_fp\n",
        "try :\n",
        "    print(\" 0 accuracy :\", (zero_tp+ zero_tn )/(len(y_test)), \"0 Precision: \", zero_tp/(zero_tp + zero_fp), \"0 Recall : \", zero_tp/(zero_tp + zero_fn))\n",
        "except :\n",
        "    print('devided by zeroin first class ')\n",
        "try :\n",
        "    print(\" 1 accuracy :\", (one_tp+ one_tn )/(len(y_test)), \"1 Precision: \", one_tp/(one_tp + one_fp), \"1 Recall : \", one_tp/(one_tp + one_fn))\n",
        "except :\n",
        "    print('devided by zero in second class ')\n",
        "try :\n",
        "  print(\" 2 accuracy :\", (two_tp+ two_tn )/(len(y_test)), \"2 Precision: \", two_tp/(two_tp + two_fp), \"2 Recall : \", two_tp/(two_tp + two_fn))\n",
        "except :\n",
        "    print('devided by zero in third class')\n",
        "\n",
        "\n",
        "weights_SGD = SVM_SGD(X_train[:, 0], X_train[:, 1], y_train)\n",
        "y_pred_0 = np.asarray(X_test[:, 0])* weights_SGD[0][0]+ np.asarray(X_test[:, 1])* weights_SGD[0][1]+ weights_SGD[0][2]\n",
        "y_pred_1 = np.asarray(X_test[:, 0])* weights_SGD[1][0]+ np.asarray(X_test[:, 1])* weights_SGD[1][1]+ weights_SGD[1][2]\n",
        "y_pred_2 = np.asarray(X_test[:, 0])* weights_SGD[2][0]+ np.asarray(X_test[:, 1])* weights_SGD[2][1]+ weights_SGD[2][2]\n",
        "y_pred_0 [np.where(y_pred_0 > 0 )] = 1 \n",
        "y_pred_0 [np.where(y_pred_0 < 0 )] = -1\n",
        "y_pred_1 [np.where(y_pred_1 > 0 )] = 1 \n",
        "y_pred_1 [np.where(y_pred_1 < 0 )] = -1 \n",
        "y_pred_2 [np.where(y_pred_2 > 0 )] = 1 \n",
        "y_pred_2 [np.where(y_pred_2 < 0 )] = -1 \n",
        "y_test_0 = np.where(y_test == 0)\n",
        "y_pred_0 [y_test_0] += 1\n",
        "zero_tp = len(np.where(y_pred_0 == 2 )[0])\n",
        "zero_fn = len(np.where(y_pred_0 == 0 )[0])\n",
        "zero_fp = len(np.where(y_pred_0 == 1 )[0])\n",
        "zero_tn = len(y_test)- zero_tp - zero_fn - zero_fp\n",
        "y_test_1 = np.where(y_test == 1)\n",
        "y_pred_1 [y_test_1] += 1\n",
        "one_tp = len(np.where(y_pred_1 == 2 )[0])\n",
        "one_fn = len(np.where(y_pred_1 == 0 )[0])\n",
        "one_fp = len(np.where(y_pred_1 == 1 )[0])\n",
        "one_tn = len(y_test)- one_tp - one_fn - one_fp\n",
        "y_test_2 = np.where(y_test == 2)\n",
        "y_pred_2 [y_test_2] += 1\n",
        "two_tp = len(np.where(y_pred_2 == 2 )[0])\n",
        "two_fn = len(np.where(y_pred_2 == 0 )[0])\n",
        "two_fp = len(np.where(y_pred_2 == 1 )[0])\n",
        "two_tn = len(y_test)- two_tp - two_fn - two_fp \n",
        "try :\n",
        "  print(\" 0 accuracy :\", (zero_tp+ zero_tn )/(len(y_test)), \"0 Precision: \", zero_tp/(zero_tp + zero_fp), \"0 Recall : \", zero_tp/(zero_tp + zero_fn))\n",
        "except :\n",
        "    print('devided by zero in first class ')\n",
        "try :\n",
        "  print(\" 1 accuracy :\", (one_tp+ one_tn )/(len(y_test)), \"1 Precision: \", one_tp/(one_tp + one_fp), \"1 Recall : \", one_tp/(one_tp + one_fn))\n",
        "except :\n",
        "    print('devided by zero in second class ')\n",
        "try :\n",
        "  print(\" 2 accuracy :\", (two_tp+ two_tn )/(len(y_test)), \"2 Precision: \", two_tp/(two_tp + two_fp), \"2 Recall : \", two_tp/(two_tp + two_fn))\n",
        "except :\n",
        "    print('devided by zero in the third class ')                                           \n"
      ],
      "execution_count": 55,
      "outputs": [
        {
          "output_type": "stream",
          "name": "stdout",
          "text": [
            " 0 accuracy : 1.0 0 Precision:  1.0 0 Recall :  1.0\n",
            "devided by zero in second class \n",
            "devided by zero in third class\n",
            "devided by zero in first class \n",
            "devided by zero in second class \n",
            "devided by zero in the third class \n"
          ]
        },
        {
          "output_type": "display_data",
          "data": {
            "text/plain": [
              "<Figure size 432x288 with 1 Axes>"
            ],
            "image/png": "[encoded data removed]"
          },
          "metadata": {
            "needs_background": "light"
          }
        }
      ]
    },
    {
      "cell_type": "markdown",
      "metadata": {
        "id": "niL1Owz_JJyl"
      },
      "source": [
        "## Simulation : \n",
        "Using built-int functions in scikit-learn library, we can implement an svm and optimize it with gradient descent. \n",
        "Confidance matrix is the normalized form of the confusion matrix. As we know the confusion matrix consists of precision, recall, accuracy and f1 score, which we have not used in this part. Each of the parameters mentioned are described and driven in the following equations. \n",
        "$$ precision = t_{positive} / (t_{positive} + f_{positive}) $$\n",
        "$$ recall  = t_{positive} / (t_{positive} + f_{negative}) $$\n",
        "$$ precision = (t_{positive} + t_{negative})/ N $$"
      ]
    }
  ]
}